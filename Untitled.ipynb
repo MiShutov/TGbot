{
 "cells": [
  {
   "cell_type": "code",
   "execution_count": 2,
   "id": "51462ea4-2860-4b82-9347-1e40c5fc0f21",
   "metadata": {},
   "outputs": [],
   "source": [
    "from aiogram import Bot, Dispatcher\n",
    "from aiogram.filters import Command\n",
    "from aiogram.types import Message"
   ]
  },
  {
   "cell_type": "code",
   "execution_count": 3,
   "id": "6987bc25-b2c9-439f-8b9d-91667eb34413",
   "metadata": {},
   "outputs": [
    {
     "ename": "RuntimeError",
     "evalue": "asyncio.run() cannot be called from a running event loop",
     "output_type": "error",
     "traceback": [
      "\u001b[0;31m---------------------------------------------------------------------------\u001b[0m",
      "\u001b[0;31mRuntimeError\u001b[0m                              Traceback (most recent call last)",
      "Cell \u001b[0;32mIn[3], line 31\u001b[0m\n\u001b[1;32m     27\u001b[0m     \u001b[38;5;28;01mawait\u001b[39;00m message\u001b[38;5;241m.\u001b[39mreply(text\u001b[38;5;241m=\u001b[39mmessage\u001b[38;5;241m.\u001b[39mtext)\n\u001b[1;32m     30\u001b[0m \u001b[38;5;28;01mif\u001b[39;00m \u001b[38;5;18m__name__\u001b[39m \u001b[38;5;241m==\u001b[39m \u001b[38;5;124m'\u001b[39m\u001b[38;5;124m__main__\u001b[39m\u001b[38;5;124m'\u001b[39m:\n\u001b[0;32m---> 31\u001b[0m     \u001b[43mdp\u001b[49m\u001b[38;5;241;43m.\u001b[39;49m\u001b[43mrun_polling\u001b[49m\u001b[43m(\u001b[49m\u001b[43mbot\u001b[49m\u001b[43m)\u001b[49m\n",
      "File \u001b[0;32m~/.venv/tgenv/lib/python3.8/site-packages/aiogram/dispatcher/dispatcher.py:587\u001b[0m, in \u001b[0;36mDispatcher.run_polling\u001b[0;34m(self, polling_timeout, handle_as_tasks, backoff_config, allowed_updates, handle_signals, close_bot_session, *bots, **kwargs)\u001b[0m\n\u001b[1;32m    573\u001b[0m \u001b[38;5;250m\u001b[39m\u001b[38;5;124;03m\"\"\"\u001b[39;00m\n\u001b[1;32m    574\u001b[0m \u001b[38;5;124;03mRun many bots with polling\u001b[39;00m\n\u001b[1;32m    575\u001b[0m \n\u001b[0;32m   (...)\u001b[0m\n\u001b[1;32m    584\u001b[0m \u001b[38;5;124;03m:return:\u001b[39;00m\n\u001b[1;32m    585\u001b[0m \u001b[38;5;124;03m\"\"\"\u001b[39;00m\n\u001b[1;32m    586\u001b[0m \u001b[38;5;28;01mwith\u001b[39;00m suppress(\u001b[38;5;167;01mKeyboardInterrupt\u001b[39;00m):\n\u001b[0;32m--> 587\u001b[0m     \u001b[38;5;28;01mreturn\u001b[39;00m \u001b[43masyncio\u001b[49m\u001b[38;5;241;43m.\u001b[39;49m\u001b[43mrun\u001b[49m\u001b[43m(\u001b[49m\n\u001b[1;32m    588\u001b[0m \u001b[43m        \u001b[49m\u001b[38;5;28;43mself\u001b[39;49m\u001b[38;5;241;43m.\u001b[39;49m\u001b[43mstart_polling\u001b[49m\u001b[43m(\u001b[49m\n\u001b[1;32m    589\u001b[0m \u001b[43m            \u001b[49m\u001b[38;5;241;43m*\u001b[39;49m\u001b[43mbots\u001b[49m\u001b[43m,\u001b[49m\n\u001b[1;32m    590\u001b[0m \u001b[43m            \u001b[49m\u001b[38;5;241;43m*\u001b[39;49m\u001b[38;5;241;43m*\u001b[39;49m\u001b[43mkwargs\u001b[49m\u001b[43m,\u001b[49m\n\u001b[1;32m    591\u001b[0m \u001b[43m            \u001b[49m\u001b[43mpolling_timeout\u001b[49m\u001b[38;5;241;43m=\u001b[39;49m\u001b[43mpolling_timeout\u001b[49m\u001b[43m,\u001b[49m\n\u001b[1;32m    592\u001b[0m \u001b[43m            \u001b[49m\u001b[43mhandle_as_tasks\u001b[49m\u001b[38;5;241;43m=\u001b[39;49m\u001b[43mhandle_as_tasks\u001b[49m\u001b[43m,\u001b[49m\n\u001b[1;32m    593\u001b[0m \u001b[43m            \u001b[49m\u001b[43mbackoff_config\u001b[49m\u001b[38;5;241;43m=\u001b[39;49m\u001b[43mbackoff_config\u001b[49m\u001b[43m,\u001b[49m\n\u001b[1;32m    594\u001b[0m \u001b[43m            \u001b[49m\u001b[43mallowed_updates\u001b[49m\u001b[38;5;241;43m=\u001b[39;49m\u001b[43mallowed_updates\u001b[49m\u001b[43m,\u001b[49m\n\u001b[1;32m    595\u001b[0m \u001b[43m            \u001b[49m\u001b[43mhandle_signals\u001b[49m\u001b[38;5;241;43m=\u001b[39;49m\u001b[43mhandle_signals\u001b[49m\u001b[43m,\u001b[49m\n\u001b[1;32m    596\u001b[0m \u001b[43m            \u001b[49m\u001b[43mclose_bot_session\u001b[49m\u001b[38;5;241;43m=\u001b[39;49m\u001b[43mclose_bot_session\u001b[49m\u001b[43m,\u001b[49m\n\u001b[1;32m    597\u001b[0m \u001b[43m        \u001b[49m\u001b[43m)\u001b[49m\n\u001b[1;32m    598\u001b[0m \u001b[43m    \u001b[49m\u001b[43m)\u001b[49m\n",
      "File \u001b[0;32m/usr/lib/python3.8/asyncio/runners.py:33\u001b[0m, in \u001b[0;36mrun\u001b[0;34m(main, debug)\u001b[0m\n\u001b[1;32m      9\u001b[0m \u001b[38;5;250m\u001b[39m\u001b[38;5;124;03m\"\"\"Execute the coroutine and return the result.\u001b[39;00m\n\u001b[1;32m     10\u001b[0m \n\u001b[1;32m     11\u001b[0m \u001b[38;5;124;03mThis function runs the passed coroutine, taking care of\u001b[39;00m\n\u001b[0;32m   (...)\u001b[0m\n\u001b[1;32m     30\u001b[0m \u001b[38;5;124;03m    asyncio.run(main())\u001b[39;00m\n\u001b[1;32m     31\u001b[0m \u001b[38;5;124;03m\"\"\"\u001b[39;00m\n\u001b[1;32m     32\u001b[0m \u001b[38;5;28;01mif\u001b[39;00m events\u001b[38;5;241m.\u001b[39m_get_running_loop() \u001b[38;5;129;01mis\u001b[39;00m \u001b[38;5;129;01mnot\u001b[39;00m \u001b[38;5;28;01mNone\u001b[39;00m:\n\u001b[0;32m---> 33\u001b[0m     \u001b[38;5;28;01mraise\u001b[39;00m \u001b[38;5;167;01mRuntimeError\u001b[39;00m(\n\u001b[1;32m     34\u001b[0m         \u001b[38;5;124m\"\u001b[39m\u001b[38;5;124masyncio.run() cannot be called from a running event loop\u001b[39m\u001b[38;5;124m\"\u001b[39m)\n\u001b[1;32m     36\u001b[0m \u001b[38;5;28;01mif\u001b[39;00m \u001b[38;5;129;01mnot\u001b[39;00m coroutines\u001b[38;5;241m.\u001b[39miscoroutine(main):\n\u001b[1;32m     37\u001b[0m     \u001b[38;5;28;01mraise\u001b[39;00m \u001b[38;5;167;01mValueError\u001b[39;00m(\u001b[38;5;124m\"\u001b[39m\u001b[38;5;124ma coroutine was expected, got \u001b[39m\u001b[38;5;132;01m{!r}\u001b[39;00m\u001b[38;5;124m\"\u001b[39m\u001b[38;5;241m.\u001b[39mformat(main))\n",
      "\u001b[0;31mRuntimeError\u001b[0m: asyncio.run() cannot be called from a running event loop"
     ]
    }
   ],
   "source": [
    "BOT_TOKEN = '7156703198:AAHEIKhTlgPr-aRtdir-LcgsZ2t-2QVVrWo'\n",
    "\n",
    "# Создаем объекты бота и диспетчера\n",
    "bot = Bot(token=BOT_TOKEN)\n",
    "dp = Dispatcher()\n",
    "\n",
    "\n",
    "# Этот хэндлер будет срабатывать на команду \"/start\"\n",
    "@dp.message(Command(commands=[\"start\"]))\n",
    "async def process_start_command(message: Message):\n",
    "    await message.answer('Привет!\\nМеня зовут Эхо-бот!\\nНапиши мне что-нибудь')\n",
    "\n",
    "\n",
    "# Этот хэндлер будет срабатывать на команду \"/help\"\n",
    "@dp.message(Command(commands=['help']))\n",
    "async def process_help_command(message: Message):\n",
    "    await message.answer(\n",
    "        'Напиши мне что-нибудь и в ответ '\n",
    "        'я пришлю тебе твое сообщение'\n",
    "    )\n",
    "\n",
    "\n",
    "# Этот хэндлер будет срабатывать на любые ваши текстовые сообщения,\n",
    "# кроме команд \"/start\" и \"/help\"\n",
    "@dp.message()\n",
    "async def send_echo(message: Message):\n",
    "    await message.reply(text=message.text)\n",
    "\n",
    "\n",
    "if __name__ == '__main__':\n",
    "    dp.run_polling(bot)"
   ]
  },
  {
   "cell_type": "code",
   "execution_count": null,
   "id": "c0fb86c9-2ce8-42be-b18c-fdbc1e852172",
   "metadata": {},
   "outputs": [],
   "source": []
  }
 ],
 "metadata": {
  "kernelspec": {
   "display_name": "tgenv",
   "language": "python",
   "name": "tgenv"
  },
  "language_info": {
   "codemirror_mode": {
    "name": "ipython",
    "version": 3
   },
   "file_extension": ".py",
   "mimetype": "text/x-python",
   "name": "python",
   "nbconvert_exporter": "python",
   "pygments_lexer": "ipython3",
   "version": "3.8.10"
  }
 },
 "nbformat": 4,
 "nbformat_minor": 5
}
